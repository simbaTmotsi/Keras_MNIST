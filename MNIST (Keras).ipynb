{
 "cells": [
  {
   "cell_type": "code",
   "execution_count": 1,
   "metadata": {},
   "outputs": [
    {
     "name": "stderr",
     "output_type": "stream",
     "text": [
      "/home/simbatmotsi/anaconda3/lib/python3.5/site-packages/h5py/__init__.py:36: FutureWarning: Conversion of the second argument of issubdtype from `float` to `np.floating` is deprecated. In future, it will be treated as `np.float64 == np.dtype(float).type`.\n",
      "  from ._conv import register_converters as _register_converters\n",
      "Using TensorFlow backend.\n"
     ]
    }
   ],
   "source": [
    "# mnist comes with keras as numpy arrays\n",
    "from keras.datasets import mnist \n"
   ]
  },
  {
   "cell_type": "code",
   "execution_count": 2,
   "metadata": {},
   "outputs": [],
   "source": [
    "# loading the training and test set images along with the labels\n",
    "(train_images, train_labels), (test_images, test_labels) = mnist.load_data()\n"
   ]
  },
  {
   "cell_type": "code",
   "execution_count": 3,
   "metadata": {},
   "outputs": [
    {
     "data": {
      "text/plain": [
       "(60000, 28, 28)"
      ]
     },
     "execution_count": 3,
     "metadata": {},
     "output_type": "execute_result"
    }
   ],
   "source": [
    "# to see the number of training images and dimensions\n",
    "train_images.shape\n"
   ]
  },
  {
   "cell_type": "code",
   "execution_count": 4,
   "metadata": {},
   "outputs": [
    {
     "data": {
      "text/plain": [
       "60000"
      ]
     },
     "execution_count": 4,
     "metadata": {},
     "output_type": "execute_result"
    }
   ],
   "source": [
    "# viewing the number of labels \"training\"\n",
    "len(train_labels)\n"
   ]
  },
  {
   "cell_type": "code",
   "execution_count": 5,
   "metadata": {},
   "outputs": [
    {
     "data": {
      "text/plain": [
       "array([5, 0, 4, ..., 5, 6, 8], dtype=uint8)"
      ]
     },
     "execution_count": 5,
     "metadata": {},
     "output_type": "execute_result"
    }
   ],
   "source": [
    "# to view the stored form and stored format of the training labels\n",
    "train_labels"
   ]
  },
  {
   "cell_type": "markdown",
   "metadata": {},
   "source": [
    "### We move onto the test data now"
   ]
  },
  {
   "cell_type": "code",
   "execution_count": 6,
   "metadata": {},
   "outputs": [
    {
     "data": {
      "text/plain": [
       "(10000, 28, 28)"
      ]
     },
     "execution_count": 6,
     "metadata": {},
     "output_type": "execute_result"
    }
   ],
   "source": [
    "# to see the number of testing images and dimensions\n",
    "test_images.shape"
   ]
  },
  {
   "cell_type": "code",
   "execution_count": 7,
   "metadata": {},
   "outputs": [
    {
     "data": {
      "text/plain": [
       "10000"
      ]
     },
     "execution_count": 7,
     "metadata": {},
     "output_type": "execute_result"
    }
   ],
   "source": [
    "# viewing the number of labels \"testing\"\n",
    "len(test_labels)"
   ]
  },
  {
   "cell_type": "code",
   "execution_count": 8,
   "metadata": {},
   "outputs": [
    {
     "data": {
      "text/plain": [
       "array([7, 2, 1, ..., 4, 5, 6], dtype=uint8)"
      ]
     },
     "execution_count": 8,
     "metadata": {},
     "output_type": "execute_result"
    }
   ],
   "source": [
    "# to view the stored form and stored format of the testing labels\n",
    "test_labels"
   ]
  },
  {
   "cell_type": "markdown",
   "metadata": {},
   "source": [
    "## About the network architecture"
   ]
  },
  {
   "cell_type": "code",
   "execution_count": 9,
   "metadata": {},
   "outputs": [],
   "source": [
    "from keras import models\n",
    "from keras import layers"
   ]
  },
  {
   "cell_type": "code",
   "execution_count": 10,
   "metadata": {},
   "outputs": [],
   "source": [
    "network = models.Sequential()\n",
    "\n",
    "# the sequential model is connected to 512 neurons in the network \n",
    "network.add(layers.Dense(512, activation='relu', input_shape=(28 * 28,)))\n",
    "\n",
    "# Each score will be the probability that the current digit image belongs to\n",
    "# one of our 10 digit classes.\n",
    "network.add(layers.Dense(10, activation='softmax'))\n",
    "# it will return an array of 10 probability scores \n",
    "# (summing to 1)"
   ]
  },
  {
   "cell_type": "markdown",
   "metadata": {},
   "source": [
    "-> A loss function—How the network will be able to measure its performance on\n",
    "   the training data, and thus how it will be able to steer itself in the right direction.\n",
    "   \n",
    "-> An optimizer—The mechanism through which the network will update itself\n",
    "   based on the data it sees and its loss function.\n",
    "   \n",
    "-> Metrics to monitor during training and testing—Here, we’ll only care about accuracy\n",
    "   (the fraction of the images that were correctly classified)."
   ]
  },
  {
   "cell_type": "markdown",
   "metadata": {},
   "source": [
    "### The compilation step"
   ]
  },
  {
   "cell_type": "code",
   "execution_count": 11,
   "metadata": {},
   "outputs": [],
   "source": [
    "network.compile(optimizer='rmsprop',\n",
    "                loss='categorical_crossentropy',\n",
    "                metrics=['accuracy'])"
   ]
  },
  {
   "cell_type": "markdown",
   "metadata": {},
   "source": [
    "Before training, we’ll preprocess the data by reshaping it into the shape the network\n",
    "expects and scaling it so that all values are in the [0, 1] interval.\n",
    "\n",
    "Previously, our training images, for instance, were stored in an array of shape (60000, 28, 28)\n",
    "of type uint8 with values in the [0, 255] interval."
   ]
  },
  {
   "cell_type": "code",
   "execution_count": 12,
   "metadata": {},
   "outputs": [],
   "source": [
    "# We transform it into a float32 array of\n",
    "# shape (60000, 28 * 28) with values between 0 and 1.\n",
    "\n",
    "train_images = train_images.reshape((60000, 28 * 28))\n",
    "train_images = train_images.astype('float32') / 255\n",
    "\n",
    "# dividing by 255 is a form of data normalisation\n",
    "test_images = test_images.reshape((10000, 28 * 28))\n",
    "test_images = test_images.astype('float32') / 255"
   ]
  },
  {
   "cell_type": "code",
   "execution_count": 13,
   "metadata": {},
   "outputs": [],
   "source": [
    "# Linking the labels and images\n",
    "\n",
    "from keras.utils import to_categorical\n",
    "# We need to categorically encode the labels\n",
    "\n",
    "train_labels = to_categorical(train_labels)\n",
    "test_labels = to_categorical(test_labels)"
   ]
  },
  {
   "cell_type": "code",
   "execution_count": 16,
   "metadata": {},
   "outputs": [
    {
     "name": "stdout",
     "output_type": "stream",
     "text": [
      "Train on 54000 samples, validate on 6000 samples\n",
      "Epoch 1/10\n",
      "54000/54000 [==============================] - 4s 74us/step - loss: 0.0073 - acc: 0.9980 - val_loss: 0.0101 - val_acc: 0.9973\n",
      "Epoch 2/10\n",
      "54000/54000 [==============================] - 4s 73us/step - loss: 0.0056 - acc: 0.9986 - val_loss: 0.0117 - val_acc: 0.9963\n",
      "Epoch 3/10\n",
      "54000/54000 [==============================] - 4s 73us/step - loss: 0.0044 - acc: 0.9989 - val_loss: 0.0136 - val_acc: 0.9958\n",
      "Epoch 4/10\n",
      "54000/54000 [==============================] - 4s 74us/step - loss: 0.0034 - acc: 0.9992 - val_loss: 0.0135 - val_acc: 0.9963\n",
      "Epoch 5/10\n",
      "54000/54000 [==============================] - 4s 74us/step - loss: 0.0024 - acc: 0.9994 - val_loss: 0.0136 - val_acc: 0.9962\n",
      "Epoch 6/10\n",
      "54000/54000 [==============================] - 4s 73us/step - loss: 0.0023 - acc: 0.9994 - val_loss: 0.0148 - val_acc: 0.9963\n",
      "Epoch 7/10\n",
      "54000/54000 [==============================] - 4s 74us/step - loss: 0.0016 - acc: 0.9996 - val_loss: 0.0165 - val_acc: 0.9955\n",
      "Epoch 8/10\n",
      "54000/54000 [==============================] - 4s 73us/step - loss: 0.0012 - acc: 0.9997 - val_loss: 0.0160 - val_acc: 0.9957\n",
      "Epoch 9/10\n",
      "54000/54000 [==============================] - 4s 73us/step - loss: 0.0011 - acc: 0.9998 - val_loss: 0.0169 - val_acc: 0.9953\n",
      "Epoch 10/10\n",
      "54000/54000 [==============================] - 4s 75us/step - loss: 5.6889e-04 - acc: 0.9999 - val_loss: 0.0226 - val_acc: 0.9945\n"
     ]
    },
    {
     "data": {
      "text/plain": [
       "<keras.callbacks.History at 0x7effdc6bc080>"
      ]
     },
     "execution_count": 16,
     "metadata": {},
     "output_type": "execute_result"
    }
   ],
   "source": [
    "# We’re now ready to train the network, which in Keras is done via a call to the net-\n",
    "# work’s fit method—we fit the model to its training data\n",
    "\n",
    "#network.fit(train_images, train_labels, epochs=10, batch_size=128)\n",
    "\n",
    "network.fit(train_images, train_labels,batch_size=128, epochs=10, verbose=1, validation_split=0.1)"
   ]
  },
  {
   "cell_type": "code",
   "execution_count": 15,
   "metadata": {},
   "outputs": [
    {
     "name": "stdout",
     "output_type": "stream",
     "text": [
      "10000/10000 [==============================] - 1s 59us/step\n",
      "test_acc: 0.9819\n"
     ]
    }
   ],
   "source": [
    "# Now let’s check that the model performs well on the test set\n",
    "test_loss, test_acc = network.evaluate(test_images, test_labels)\n",
    "print('test_acc:', test_acc)"
   ]
  },
  {
   "cell_type": "code",
   "execution_count": null,
   "metadata": {},
   "outputs": [],
   "source": []
  }
 ],
 "metadata": {
  "kernelspec": {
   "display_name": "Python 3",
   "language": "python",
   "name": "python3"
  },
  "language_info": {
   "codemirror_mode": {
    "name": "ipython",
    "version": 3
   },
   "file_extension": ".py",
   "mimetype": "text/x-python",
   "name": "python",
   "nbconvert_exporter": "python",
   "pygments_lexer": "ipython3",
   "version": "3.5.4"
  }
 },
 "nbformat": 4,
 "nbformat_minor": 2
}
